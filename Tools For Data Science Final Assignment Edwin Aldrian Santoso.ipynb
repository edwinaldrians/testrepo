{
 "cells": [
  {
   "cell_type": "markdown",
   "id": "58403096",
   "metadata": {},
   "source": [
    "# My Jupyter Notebook on IBM Watson Studio"
   ]
  },
  {
   "cell_type": "markdown",
   "id": "dda6712a",
   "metadata": {},
   "source": [
    "**Edwin Aldrian Santoso** <br>\n",
    "Data Analyst"
   ]
  },
  {
   "cell_type": "markdown",
   "id": "d9f35b55",
   "metadata": {},
   "source": [
    "*I am interested in data science because nowadays data is everywhere and I want to help many people by extracting insights from data*"
   ]
  },
  {
   "cell_type": "markdown",
   "id": "7a18fa3b",
   "metadata": {},
   "source": [
    "### This code will calculate the factorial of an integer number : n! = n(n-1)(n-2)...1 "
   ]
  },
  {
   "cell_type": "code",
   "execution_count": 29,
   "id": "373f4c79",
   "metadata": {},
   "outputs": [
    {
     "name": "stdout",
     "output_type": "stream",
     "text": [
      "5 ! =  120\n"
     ]
    }
   ],
   "source": [
    "n = 5\n",
    "n_factorial = 1\n",
    "for i in range(1,n+1):\n",
    "    n_factorial *= i\n",
    "print(n,'! = ',n_factorial)"
   ]
  },
  {
   "cell_type": "markdown",
   "id": "feb85ca2",
   "metadata": {},
   "source": [
    "---\n",
    "* Bulleted List 1\n",
    "* Bulleted List 2\n",
    "1. Numbered List 1\n",
    "2. Numbered List 2\n",
    "\n",
    "`print('hello world')`\n",
    "\n",
    "[This is the link to Google](https://www.google.com)\n",
    "\n",
    "> Blockquotes\n",
    "\n",
    "~~Delete this~~"
   ]
  }
 ],
 "metadata": {
  "kernelspec": {
   "display_name": "Python 3 (ipykernel)",
   "language": "python",
   "name": "python3"
  },
  "language_info": {
   "codemirror_mode": {
    "name": "ipython",
    "version": 3
   },
   "file_extension": ".py",
   "mimetype": "text/x-python",
   "name": "python",
   "nbconvert_exporter": "python",
   "pygments_lexer": "ipython3",
   "version": "3.9.13"
  }
 },
 "nbformat": 4,
 "nbformat_minor": 5
}
